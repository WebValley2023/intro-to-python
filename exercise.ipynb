{
 "cells": [
  {
   "attachments": {},
   "cell_type": "markdown",
   "id": "f731e7c0",
   "metadata": {},
   "source": [
    "# Exercise 1"
   ]
  },
  {
   "cell_type": "code",
   "execution_count": 2,
   "id": "310e0fc6-4001-423a-bebb-97e6ac484862",
   "metadata": {},
   "outputs": [],
   "source": [
    "first_name = \"...\"\n",
    "\n",
    "# print(...)"
   ]
  },
  {
   "cell_type": "code",
   "execution_count": 3,
   "id": "302e1c57-838a-49a9-a6db-3928b11c3222",
   "metadata": {},
   "outputs": [
    {
     "data": {
      "text/plain": [
       "<module 'numpy' from '/home/wvuser/.venv/lib/python3.10/site-packages/numpy/__init__.py'>"
      ]
     },
     "execution_count": 3,
     "metadata": {},
     "output_type": "execute_result"
    }
   ],
   "source": [
    "print(1 + 1 + 1)\n",
    "print(1 + (1 + 1))"
   ]
  },
  {
   "cell_type": "code",
   "execution_count": 4,
   "id": "3a7b75ed",
   "metadata": {},
   "outputs": [
    {
     "data": {
      "text/plain": [
       "0.30000000000000004"
      ]
     },
     "execution_count": 4,
     "metadata": {},
     "output_type": "execute_result"
    }
   ],
   "source": [
    ".1 + .2"
   ]
  },
  {
   "attachments": {},
   "cell_type": "markdown",
   "id": "48b8c5ed",
   "metadata": {},
   "source": [
    "# Exercise 2"
   ]
  },
  {
   "cell_type": "code",
   "execution_count": 6,
   "id": "7da1dd55",
   "metadata": {},
   "outputs": [],
   "source": [
    "careers = [\"truck drive\", \"programmer\", \"...\"]\n",
    "\n",
    "# index\n",
    "\n",
    "# in\n",
    "\n",
    "# append\n",
    "\n",
    "# insert\n",
    "\n"
   ]
  },
  {
   "cell_type": "code",
   "execution_count": null,
   "id": "ba580071",
   "metadata": {},
   "outputs": [],
   "source": [
    "print(careers)\n",
    "# print alphabetical order\n",
    "\n",
    "# print original order\n",
    "\n",
    "# print reverese alphabetica order\n",
    "\n",
    "# print original order\n",
    "\n",
    "# print reverse original order\n",
    "\n"
   ]
  },
  {
   "attachments": {},
   "cell_type": "markdown",
   "id": "1d813f14",
   "metadata": {},
   "source": [
    "# Exercise 3"
   ]
  },
  {
   "cell_type": "code",
   "execution_count": null,
   "id": "f6b3ed6d",
   "metadata": {},
   "outputs": [],
   "source": [
    "# multiples of 10\n",
    "multiples = []"
   ]
  },
  {
   "cell_type": "code",
   "execution_count": null,
   "id": "a0c03c04",
   "metadata": {},
   "outputs": [],
   "source": [
    "plus_thirteen = [number + 13 for number in range(1, 11)]\n",
    "\n",
    "# work backward!"
   ]
  },
  {
   "attachments": {},
   "cell_type": "markdown",
   "id": "adb9dde1",
   "metadata": {},
   "source": [
    "# Exercise 4"
   ]
  },
  {
   "cell_type": "code",
   "execution_count": 8,
   "id": "e7957020",
   "metadata": {},
   "outputs": [],
   "source": [
    "sentence = \"Hello Python\"\n",
    "\n",
    "# in\n",
    "\n",
    "# find\n",
    "\n",
    "# rfind\n",
    "\n",
    "# count\n",
    "\n",
    "# split\n",
    "\n",
    "# replace"
   ]
  },
  {
   "attachments": {},
   "cell_type": "markdown",
   "id": "486f45f6",
   "metadata": {},
   "source": [
    "# Exercise 4"
   ]
  },
  {
   "cell_type": "code",
   "execution_count": null,
   "id": "884c0201",
   "metadata": {},
   "outputs": [],
   "source": [
    "mountains = {\n",
    "    \"...\": 0\n",
    "}"
   ]
  }
 ],
 "metadata": {
  "kernelspec": {
   "display_name": "Python 3 (ipykernel)",
   "language": "python",
   "name": "python3"
  },
  "language_info": {
   "codemirror_mode": {
    "name": "ipython",
    "version": 3
   },
   "file_extension": ".py",
   "mimetype": "text/x-python",
   "name": "python",
   "nbconvert_exporter": "python",
   "pygments_lexer": "ipython3",
   "version": "3.10.6"
  }
 },
 "nbformat": 4,
 "nbformat_minor": 5
}
