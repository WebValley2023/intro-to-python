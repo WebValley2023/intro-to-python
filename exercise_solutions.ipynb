{
 "cells": [
  {
   "attachments": {},
   "cell_type": "markdown",
   "id": "f731e7c0",
   "metadata": {},
   "source": [
    "# Exercise 1"
   ]
  },
  {
   "cell_type": "code",
   "execution_count": 5,
   "id": "310e0fc6-4001-423a-bebb-97e6ac484862",
   "metadata": {},
   "outputs": [
    {
     "name": "stdout",
     "output_type": "stream",
     "text": [
      "luca\n",
      "Luca\n",
      "LUCA\n"
     ]
    }
   ],
   "source": [
    "first_name = \"luca\"\n",
    "\n",
    "print(first_name)\n",
    "print(first_name.title())\n",
    "print(first_name.upper())"
   ]
  },
  {
   "cell_type": "code",
   "execution_count": 16,
   "id": "302e1c57-838a-49a9-a6db-3928b11c3222",
   "metadata": {},
   "outputs": [
    {
     "name": "stdout",
     "output_type": "stream",
     "text": [
      "7.00003\n",
      "5.1e-05\n"
     ]
    },
    {
     "data": {
      "text/plain": [
       "(5.1e-05, 5.1e-05)"
      ]
     },
     "execution_count": 16,
     "metadata": {},
     "output_type": "execute_result"
    }
   ],
   "source": [
    "print(7 + 10 * 3 / 100 ** 3)\n",
    "print((7 + 10) * 3 / 100 ** 3) \n",
    "\n",
    "a = .000051\n",
    "\n",
    "a, a "
   ]
  },
  {
   "cell_type": "code",
   "execution_count": 4,
   "id": "3a7b75ed",
   "metadata": {},
   "outputs": [
    {
     "data": {
      "text/plain": [
       "0.30000000000000004"
      ]
     },
     "execution_count": 4,
     "metadata": {},
     "output_type": "execute_result"
    }
   ],
   "source": [
    ".1 + .2"
   ]
  },
  {
   "attachments": {},
   "cell_type": "markdown",
   "id": "48b8c5ed",
   "metadata": {},
   "source": [
    "# Exercise 2"
   ]
  },
  {
   "cell_type": "code",
   "execution_count": 8,
   "id": "7da1dd55",
   "metadata": {},
   "outputs": [
    {
     "name": "stdout",
     "output_type": "stream",
     "text": [
      "3\n",
      "False\n",
      "['truck driver', 'programmer', 'plumber', 'ice creamer', 'lawyer']\n",
      "['truck driver', 'programmer', 'professor', 'plumber', 'ice creamer', 'lawyer']\n",
      "truck driver\n",
      "programmer\n",
      "professor\n",
      "plumber\n",
      "ice creamer\n",
      "lawyer\n"
     ]
    }
   ],
   "source": [
    "careers = [\"truck driver\", \"programmer\", \"plumber\", \"ice creamer\"]\n",
    "\n",
    "# index\n",
    "print(careers.index(\"ice creamer\"))\n",
    "\n",
    "# in\n",
    "print(\"frozen yogurther\" in careers)\n",
    "\n",
    "# append\n",
    "# print(careers.append(\"lawyer\"))\n",
    "careers.append(\"lawyer\")\n",
    "print(careers)\n",
    "\n",
    "# insert\n",
    "careers.insert(2, \"professor\")\n",
    "print(careers)\n",
    "\n",
    "for banana in careers:\n",
    "    print(banana)"
   ]
  },
  {
   "cell_type": "code",
   "execution_count": 25,
   "id": "ba580071",
   "metadata": {},
   "outputs": [
    {
     "name": "stdout",
     "output_type": "stream",
     "text": [
      "['truck driver', 'plumber', 'ice creamer', 'programmer']\n",
      "['ice creamer', 'plumber', 'programmer', 'truck driver']\n",
      "['truck driver', 'plumber', 'ice creamer', 'programmer']\n",
      "['truck driver', 'programmer', 'plumber', 'ice creamer']\n",
      "['truck driver', 'plumber', 'ice creamer', 'programmer']\n",
      "['programmer', 'ice creamer', 'plumber', 'truck driver']\n",
      "----\n",
      "['ice creamer', 'plumber', 'programmer', 'truck driver']\n",
      "['truck driver', 'programmer', 'plumber', 'ice creamer']\n"
     ]
    }
   ],
   "source": [
    "careers = [\"truck driver\", \"plumber\", \"ice creamer\", \"programmer\"]\n",
    "print(careers)\n",
    "\n",
    "# alphabetical order\n",
    "sorted_careers = sorted(careers)\n",
    "print(sorted_careers)\n",
    "# print(sorted(careers))\n",
    "\n",
    "# print original order\n",
    "print(careers)\n",
    "\n",
    "# print reverese alphabetica order\n",
    "print(list(reversed(sorted_careers)))\n",
    "\n",
    "# print original order\n",
    "print(careers)\n",
    "\n",
    "# print reverse original order\n",
    "print(list(reversed(careers)))\n",
    "\n",
    "print(\"----\")\n",
    "careers.sort()\n",
    "print(careers)\n",
    "\n",
    "careers.reverse()\n",
    "print(careers)\n",
    "\n",
    "\n"
   ]
  },
  {
   "cell_type": "code",
   "execution_count": 26,
   "id": "6666aa86",
   "metadata": {},
   "outputs": [
    {
     "data": {
      "text/plain": [
       "['truck driver', 'programmer', 'plumber', 'ice creamer']"
      ]
     },
     "execution_count": 26,
     "metadata": {},
     "output_type": "execute_result"
    }
   ],
   "source": [
    "careers"
   ]
  },
  {
   "cell_type": "code",
   "execution_count": 27,
   "id": "8fdab184",
   "metadata": {},
   "outputs": [],
   "source": [
    "copied_careers = careers"
   ]
  },
  {
   "cell_type": "code",
   "execution_count": 28,
   "id": "f3a82cb9",
   "metadata": {},
   "outputs": [
    {
     "data": {
      "text/plain": [
       "['programmer', 'plumber', 'ice creamer']"
      ]
     },
     "execution_count": 28,
     "metadata": {},
     "output_type": "execute_result"
    }
   ],
   "source": [
    "del copied_careers[0]\n",
    "copied_careers"
   ]
  },
  {
   "cell_type": "code",
   "execution_count": 29,
   "id": "06c1254d",
   "metadata": {},
   "outputs": [
    {
     "data": {
      "text/plain": [
       "['programmer', 'plumber', 'ice creamer']"
      ]
     },
     "execution_count": 29,
     "metadata": {},
     "output_type": "execute_result"
    }
   ],
   "source": [
    "careers"
   ]
  },
  {
   "cell_type": "code",
   "execution_count": null,
   "id": "d91361de",
   "metadata": {},
   "outputs": [],
   "source": []
  },
  {
   "attachments": {},
   "cell_type": "markdown",
   "id": "093336d8",
   "metadata": {},
   "source": []
  },
  {
   "attachments": {},
   "cell_type": "markdown",
   "id": "1d813f14",
   "metadata": {},
   "source": [
    "# Exercise 3"
   ]
  },
  {
   "cell_type": "code",
   "execution_count": 2,
   "id": "f6b3ed6d",
   "metadata": {},
   "outputs": [
    {
     "data": {
      "text/plain": [
       "[10, 20, 30, 40, 50, 60, 70, 80, 90, 100]"
      ]
     },
     "execution_count": 2,
     "metadata": {},
     "output_type": "execute_result"
    }
   ],
   "source": [
    "# multiples of 10\n",
    "multiples = [number * 10 for number in range(1, 11)]\n",
    "multiples"
   ]
  },
  {
   "cell_type": "code",
   "execution_count": 3,
   "id": "a0c03c04",
   "metadata": {},
   "outputs": [
    {
     "data": {
      "text/plain": [
       "[14, 15, 16, 17, 18, 19, 20, 21, 22, 23]"
      ]
     },
     "execution_count": 3,
     "metadata": {},
     "output_type": "execute_result"
    }
   ],
   "source": [
    "plus_thirteen = [number + 13 for number in range(1, 11)]\n",
    "\n",
    "# work backward!\n",
    "\n",
    "plus_thirteen = []\n",
    "\n",
    "for number in range(1, 11):\n",
    "    plus_thirteen.append(number + 13)\n",
    "\n",
    "plus_thirteen"
   ]
  },
  {
   "attachments": {},
   "cell_type": "markdown",
   "id": "adb9dde1",
   "metadata": {},
   "source": [
    "# Exercise 4"
   ]
  },
  {
   "cell_type": "code",
   "execution_count": 8,
   "id": "e7957020",
   "metadata": {},
   "outputs": [],
   "source": [
    "sentence = \"Hello Python\"\n",
    "\n",
    "# in\n",
    "\n",
    "# find\n",
    "\n",
    "# rfind\n",
    "\n",
    "# count\n",
    "\n",
    "# split\n",
    "\n",
    "# replace"
   ]
  },
  {
   "attachments": {},
   "cell_type": "markdown",
   "id": "486f45f6",
   "metadata": {},
   "source": [
    "# Exercise 5"
   ]
  },
  {
   "cell_type": "code",
   "execution_count": 7,
   "id": "884c0201",
   "metadata": {},
   "outputs": [],
   "source": [
    "mountains = {\n",
    "    \"k2\": 8611,\n",
    "    \"lhotse\": 8516,\n",
    "    \"kangchenjunga\": 8586,\n",
    "    \"everest\": 8848,\n",
    "}"
   ]
  },
  {
   "cell_type": "code",
   "execution_count": 8,
   "id": "42882fde",
   "metadata": {},
   "outputs": [
    {
     "name": "stdout",
     "output_type": "stream",
     "text": [
      "k2\n",
      "lhotse\n",
      "kangchenjunga\n",
      "everest\n",
      "8611\n",
      "8516\n",
      "8586\n",
      "8848\n",
      "k2 is 8611 meters high\n",
      "lhotse is 8516 meters high\n",
      "kangchenjunga is 8586 meters high\n",
      "everest is 8848 meters high\n"
     ]
    }
   ],
   "source": [
    "# for key in mountains.keys():\n",
    "for key in mountains:\n",
    "    print(key)\n",
    "\n",
    "for height in mountains.values():\n",
    "    print(height)\n",
    "\n",
    "for name, height in mountains.items():\n",
    "    print(f\"{name} is {height} meters high\")\n",
    "    # print(name + \" is \" + height + \" meters high\")\n",
    "\n"
   ]
  },
  {
   "cell_type": "code",
   "execution_count": 9,
   "id": "acd97cbd",
   "metadata": {},
   "outputs": [
    {
     "name": "stdout",
     "output_type": "stream",
     "text": [
      "everest is 8848 meters high\n",
      "k2 is 8611 meters high\n",
      "kangchenjunga is 8586 meters high\n",
      "lhotse is 8516 meters high\n"
     ]
    }
   ],
   "source": [
    "for name in sorted(mountains):\n",
    "    print(f\"{name} is {mountains[name]} meters high\")"
   ]
  },
  {
   "cell_type": "code",
   "execution_count": 14,
   "id": "3293854d",
   "metadata": {},
   "outputs": [
    {
     "data": {
      "text/plain": [
       "['A', 'B', 'C', 'a', 'b', 'c', '😴']"
      ]
     },
     "execution_count": 14,
     "metadata": {},
     "output_type": "execute_result"
    }
   ],
   "source": [
    "sorted([\"A\", \"a\", \"B\", \"b\", \"C\", \"c\", \"😴\"])"
   ]
  },
  {
   "cell_type": "code",
   "execution_count": 4,
   "id": "99a639ac",
   "metadata": {},
   "outputs": [
    {
     "name": "stdout",
     "output_type": "stream",
     "text": [
      "60.4 ms ± 737 µs per loop (mean ± std. dev. of 7 runs, 10 loops each)\n"
     ]
    }
   ],
   "source": [
    "a = list(range(1, int(10e6)))\n",
    "%timeit _ = 0 in a\n"
   ]
  },
  {
   "cell_type": "code",
   "execution_count": 5,
   "id": "d409ccc8",
   "metadata": {},
   "outputs": [
    {
     "name": "stdout",
     "output_type": "stream",
     "text": [
      "33.6 ns ± 0.502 ns per loop (mean ± std. dev. of 7 runs, 10,000,000 loops each)\n"
     ]
    }
   ],
   "source": [
    "a = set(list(range(1, int(10e6))))\n",
    "%timeit _ = 0 in a\n"
   ]
  },
  {
   "cell_type": "code",
   "execution_count": 10,
   "id": "e3b4d653",
   "metadata": {},
   "outputs": [
    {
     "data": {
      "text/plain": [
       "{'k2': 8611, 'lhotse': 8516, 'kangchenjunga': 8586, 'everest': 8848}"
      ]
     },
     "execution_count": 10,
     "metadata": {},
     "output_type": "execute_result"
    }
   ],
   "source": [
    "mountains"
   ]
  },
  {
   "cell_type": "code",
   "execution_count": 11,
   "id": "c54b13dc",
   "metadata": {},
   "outputs": [
    {
     "data": {
      "text/plain": [
       "{8611: 'k2', 8516: 'lhotse', 8586: 'kangchenjunga', 8848: 'everest'}"
      ]
     },
     "execution_count": 11,
     "metadata": {},
     "output_type": "execute_result"
    }
   ],
   "source": [
    "heights = {v: k for k, v in mountains.items()}\n",
    "heights"
   ]
  },
  {
   "cell_type": "code",
   "execution_count": null,
   "id": "64dc430f",
   "metadata": {},
   "outputs": [],
   "source": [
    "words = {\n",
    "    \"banana\": [\"yellow color\", \"berry fruit\"], \n",
    "    \"Guardians of the Galaxy\": \"terrible\",\n",
    "} "
   ]
  }
 ],
 "metadata": {
  "kernelspec": {
   "display_name": "Python 3 (ipykernel)",
   "language": "python",
   "name": "python3"
  },
  "language_info": {
   "codemirror_mode": {
    "name": "ipython",
    "version": 3
   },
   "file_extension": ".py",
   "mimetype": "text/x-python",
   "name": "python",
   "nbconvert_exporter": "python",
   "pygments_lexer": "ipython3",
   "version": "3.10.6"
  }
 },
 "nbformat": 4,
 "nbformat_minor": 5
}
